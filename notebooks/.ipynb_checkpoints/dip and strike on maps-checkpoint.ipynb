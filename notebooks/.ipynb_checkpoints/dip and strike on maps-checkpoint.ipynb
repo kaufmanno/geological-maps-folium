{
 "cells": [
  {
   "cell_type": "markdown",
   "metadata": {},
   "source": [
    "# Displaying strike and dip symbols on a map using folium\n",
    "### O. Kaufmann, 2018."
   ]
  },
  {
   "cell_type": "code",
   "execution_count": 1,
   "metadata": {},
   "outputs": [],
   "source": [
    "%matplotlib inline"
   ]
  },
  {
   "cell_type": "code",
   "execution_count": 2,
   "metadata": {},
   "outputs": [],
   "source": [
    "import matplotlib.pyplot as plt\n",
    "import mplleaflet as mpll\n",
    "import pandas as pd\n",
    "import geopandas as gpd\n",
    "import folium\n",
    "from IPython.display import Image\n",
    "from shapely.geometry import Point"
   ]
  },
  {
   "cell_type": "markdown",
   "metadata": {},
   "source": [
    "<div class=\"alert alert-block alert-danger\">\n",
    "**First start a simple http server to serve the symbols**  \n",
    "Open a new terminal move to the work directory and run the following command  \n",
    "`python3 -m http.server 3333 --bind 127.0.0.1`\n",
    "</div>"
   ]
  },
  {
   "cell_type": "markdown",
   "metadata": {},
   "source": [
    "### Create a pandas dataframe with the position of the symbols given in the projected coordinate reference system of the map and the strike and dip angles given in degrees using the rigth hand side rule"
   ]
  },
  {
   "cell_type": "code",
   "execution_count": 3,
   "metadata": {},
   "outputs": [],
   "source": [
    "df = pd.DataFrame([[120150, 122145,120, 30], \n",
    "                   [121450, 122255, 110, 40], \n",
    "                   [120874, 123059, 0, 60],\n",
    "                   [121400, 123500, 245, 10]], \n",
    "                  columns=['x', 'y', 'strike', 'dip'])"
   ]
  },
  {
   "cell_type": "code",
   "execution_count": 4,
   "metadata": {},
   "outputs": [],
   "source": [
    "gs = gpd.GeoSeries(df.apply(lambda row: Point(row['x'], row['y']), 1),crs={'init': 'epsg:31370'})"
   ]
  },
  {
   "cell_type": "code",
   "execution_count": 5,
   "metadata": {},
   "outputs": [
    {
     "data": {
      "text/html": [
       "<div>\n",
       "<style scoped>\n",
       "    .dataframe tbody tr th:only-of-type {\n",
       "        vertical-align: middle;\n",
       "    }\n",
       "\n",
       "    .dataframe tbody tr th {\n",
       "        vertical-align: top;\n",
       "    }\n",
       "\n",
       "    .dataframe thead th {\n",
       "        text-align: right;\n",
       "    }\n",
       "</style>\n",
       "<table border=\"1\" class=\"dataframe\">\n",
       "  <thead>\n",
       "    <tr style=\"text-align: right;\">\n",
       "      <th></th>\n",
       "      <th>x</th>\n",
       "      <th>y</th>\n",
       "      <th>strike</th>\n",
       "      <th>dip</th>\n",
       "      <th>geometry</th>\n",
       "    </tr>\n",
       "  </thead>\n",
       "  <tbody>\n",
       "    <tr>\n",
       "      <th>0</th>\n",
       "      <td>120150</td>\n",
       "      <td>122145</td>\n",
       "      <td>120</td>\n",
       "      <td>30</td>\n",
       "      <td>POINT (120150 122145)</td>\n",
       "    </tr>\n",
       "    <tr>\n",
       "      <th>1</th>\n",
       "      <td>121450</td>\n",
       "      <td>122255</td>\n",
       "      <td>110</td>\n",
       "      <td>40</td>\n",
       "      <td>POINT (121450 122255)</td>\n",
       "    </tr>\n",
       "    <tr>\n",
       "      <th>2</th>\n",
       "      <td>120874</td>\n",
       "      <td>123059</td>\n",
       "      <td>0</td>\n",
       "      <td>60</td>\n",
       "      <td>POINT (120874 123059)</td>\n",
       "    </tr>\n",
       "    <tr>\n",
       "      <th>3</th>\n",
       "      <td>121400</td>\n",
       "      <td>123500</td>\n",
       "      <td>245</td>\n",
       "      <td>10</td>\n",
       "      <td>POINT (121400 123500)</td>\n",
       "    </tr>\n",
       "  </tbody>\n",
       "</table>\n",
       "</div>"
      ],
      "text/plain": [
       "        x       y  strike  dip               geometry\n",
       "0  120150  122145     120   30  POINT (120150 122145)\n",
       "1  121450  122255     110   40  POINT (121450 122255)\n",
       "2  120874  123059       0   60  POINT (120874 123059)\n",
       "3  121400  123500     245   10  POINT (121400 123500)"
      ]
     },
     "execution_count": 5,
     "metadata": {},
     "output_type": "execute_result"
    }
   ],
   "source": [
    "gdf = gpd.GeoDataFrame(df, geometry=gs)\n",
    "gdf"
   ]
  },
  {
   "cell_type": "markdown",
   "metadata": {},
   "source": [
    "### Create a function to draw a symbol given the position and angles and save this symbol as a png image"
   ]
  },
  {
   "cell_type": "code",
   "execution_count": 18,
   "metadata": {},
   "outputs": [],
   "source": [
    "def plot_strike_dip(pos, strike, dip, degrees=True, dip_length=False, linewidth=20., textsize=20.,\n",
    "                    color='black', png_fig=None):\n",
    "    # right hand side rule\n",
    "    import numpy as np\n",
    "    \n",
    "    if degrees:\n",
    "        strike = strike/180.*np.pi\n",
    "        dip = dip/180.*np.pi\n",
    "    \n",
    "    if dip_length:\n",
    "        dl = np.sin(np.pi/2-dip)\n",
    "    else:\n",
    "        dl = 0.4\n",
    "        \n",
    "    fig, ax=plt.subplots(figsize=(4,4));\n",
    "    \n",
    "    ax.plot([-np.cos(np.pi/2.-strike), np.cos(np.pi/2.-strike)], \n",
    "            [-np.sin(np.pi/2.-strike), np.sin(np.pi/2.-strike)],\n",
    "            linewidth=linewidth, color=color)\n",
    "    ax.plot([0., np.sin(strike+np.pi/2)*dl], \n",
    "            [0., np.cos(strike+np.pi/2)*dl],\n",
    "           linewidth=linewidth, color=color)\n",
    "    \n",
    "    txt = ax.text(0., 0, '%02.f°' %(dip*180./np.pi), size=textsize, color=color,\n",
    "                  horizontalalignment='center', verticalalignment='center')\n",
    "    \n",
    "    txt.set_rotation(90.-strike*180./np.pi)\n",
    "    txt.set_position((2.5*np.sin(strike+np.pi/2)*dl, 2.5*np.cos(strike+np.pi/2)*dl));\n",
    "    \n",
    "    if png_fig is not None:\n",
    "        ax.axis('off')\n",
    "        ax.set_position([-1, -1, 1, 1])\n",
    "        ax.set_xlim([-1.25,1.25])\n",
    "        ax.set_ylim([-1.25,1.25])\n",
    "        ax.set_aspect('equal')\n",
    "        ax.figure.canvas.draw()\n",
    "        ax.margins(1.)\n",
    "        ax.tick_params(which='both', direction='in')\n",
    "        extent = ax.get_window_extent().transformed(fig.dpi_scale_trans.inverted())\n",
    "        plt.savefig(png_fig + '.png', dpi=166, bbox_inches=extent, format='png', transparent=True)\n",
    "        ax.figure.clf()"
   ]
  },
  {
   "cell_type": "code",
   "execution_count": 19,
   "metadata": {},
   "outputs": [
    {
     "data": {
      "text/html": [
       "<div>\n",
       "<style scoped>\n",
       "    .dataframe tbody tr th:only-of-type {\n",
       "        vertical-align: middle;\n",
       "    }\n",
       "\n",
       "    .dataframe tbody tr th {\n",
       "        vertical-align: top;\n",
       "    }\n",
       "\n",
       "    .dataframe thead th {\n",
       "        text-align: right;\n",
       "    }\n",
       "</style>\n",
       "<table border=\"1\" class=\"dataframe\">\n",
       "  <thead>\n",
       "    <tr style=\"text-align: right;\">\n",
       "      <th></th>\n",
       "      <th>x</th>\n",
       "      <th>y</th>\n",
       "      <th>strike</th>\n",
       "      <th>dip</th>\n",
       "      <th>geometry</th>\n",
       "      <th>icon</th>\n",
       "    </tr>\n",
       "  </thead>\n",
       "  <tbody>\n",
       "    <tr>\n",
       "      <th>0</th>\n",
       "      <td>120150</td>\n",
       "      <td>122145</td>\n",
       "      <td>120</td>\n",
       "      <td>30</td>\n",
       "      <td>POINT (120150 122145)</td>\n",
       "      <td>http://localhost:3333/0.png</td>\n",
       "    </tr>\n",
       "    <tr>\n",
       "      <th>1</th>\n",
       "      <td>121450</td>\n",
       "      <td>122255</td>\n",
       "      <td>110</td>\n",
       "      <td>40</td>\n",
       "      <td>POINT (121450 122255)</td>\n",
       "      <td>http://localhost:3333/1.png</td>\n",
       "    </tr>\n",
       "    <tr>\n",
       "      <th>2</th>\n",
       "      <td>120874</td>\n",
       "      <td>123059</td>\n",
       "      <td>0</td>\n",
       "      <td>60</td>\n",
       "      <td>POINT (120874 123059)</td>\n",
       "      <td>http://localhost:3333/2.png</td>\n",
       "    </tr>\n",
       "    <tr>\n",
       "      <th>3</th>\n",
       "      <td>121400</td>\n",
       "      <td>123500</td>\n",
       "      <td>245</td>\n",
       "      <td>10</td>\n",
       "      <td>POINT (121400 123500)</td>\n",
       "      <td>http://localhost:3333/3.png</td>\n",
       "    </tr>\n",
       "  </tbody>\n",
       "</table>\n",
       "</div>"
      ],
      "text/plain": [
       "        x       y  strike  dip               geometry  \\\n",
       "0  120150  122145     120   30  POINT (120150 122145)   \n",
       "1  121450  122255     110   40  POINT (121450 122255)   \n",
       "2  120874  123059       0   60  POINT (120874 123059)   \n",
       "3  121400  123500     245   10  POINT (121400 123500)   \n",
       "\n",
       "                          icon  \n",
       "0  http://localhost:3333/0.png  \n",
       "1  http://localhost:3333/1.png  \n",
       "2  http://localhost:3333/2.png  \n",
       "3  http://localhost:3333/3.png  "
      ]
     },
     "execution_count": 19,
     "metadata": {},
     "output_type": "execute_result"
    },
    {
     "data": {
      "text/plain": [
       "<matplotlib.figure.Figure at 0x7ff857f39898>"
      ]
     },
     "metadata": {},
     "output_type": "display_data"
    },
    {
     "data": {
      "text/plain": [
       "<matplotlib.figure.Figure at 0x7ff85801cdd8>"
      ]
     },
     "metadata": {},
     "output_type": "display_data"
    },
    {
     "data": {
      "text/plain": [
       "<matplotlib.figure.Figure at 0x7ff8580d76a0>"
      ]
     },
     "metadata": {},
     "output_type": "display_data"
    },
    {
     "data": {
      "text/plain": [
       "<matplotlib.figure.Figure at 0x7ff857ff8438>"
      ]
     },
     "metadata": {},
     "output_type": "display_data"
    }
   ],
   "source": [
    "gdf.apply(lambda row: plot_strike_dip(Point(row['x'], row['y']), row['strike'], row['dip'], textsize=80, png_fig=str(row.name)),1)\n",
    "for idx, row in gdf.iterrows():\n",
    "    gdf.loc[idx, 'icon'] = 'http://localhost:3333/' + str(idx) + '.png'\n",
    "gdf"
   ]
  },
  {
   "cell_type": "code",
   "execution_count": 20,
   "metadata": {},
   "outputs": [],
   "source": [
    "gdf.to_crs({'init': 'epsg:4326'}, inplace=True)"
   ]
  },
  {
   "cell_type": "code",
   "execution_count": 21,
   "metadata": {},
   "outputs": [
    {
     "data": {
      "text/plain": [
       "(50.40943952810526, 3.9487995528317774)"
      ]
     },
     "execution_count": 21,
     "metadata": {},
     "output_type": "execute_result"
    }
   ],
   "source": [
    "center=(gdf.loc[0, 'geometry'].y, gdf.loc[0, 'geometry'].x)\n",
    "center"
   ]
  },
  {
   "cell_type": "code",
   "execution_count": 23,
   "metadata": {},
   "outputs": [],
   "source": [
    "m = folium.Map(center, zoom_start=13)\n",
    "for idx, row in gdf.iterrows():\n",
    "        icon_url = row['icon']\n",
    "        popup = '%03.f° - %02.f°' %(row['strike'], row['dip'])\n",
    "        icon = folium.features.CustomIcon(icon_url, icon_size=(32, 32))\n",
    "        marker = folium.Marker([row.geometry.y, row.geometry.x], icon=icon, popup=popup)\n",
    "        m.add_child(marker)"
   ]
  },
  {
   "cell_type": "code",
   "execution_count": 24,
   "metadata": {},
   "outputs": [
    {
     "data": {
      "text/html": [
       "<div style=\"width:100%;\"><div style=\"position:relative;width:100%;height:0;padding-bottom:60%;\"><iframe src=\"data:text/html;charset=utf-8;base64,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\" style=\"position:absolute;width:100%;height:100%;left:0;top:0;border:none !important;\" allowfullscreen webkitallowfullscreen mozallowfullscreen></iframe></div></div>"
      ],
      "text/plain": [
       "<folium.folium.Map at 0x7ff8580266d8>"
      ]
     },
     "execution_count": 24,
     "metadata": {},
     "output_type": "execute_result"
    }
   ],
   "source": [
    "m"
   ]
  },
  {
   "cell_type": "code",
   "execution_count": null,
   "metadata": {},
   "outputs": [],
   "source": []
  }
 ],
 "metadata": {
  "kernelspec": {
   "display_name": "Python 3",
   "language": "python",
   "name": "python3"
  },
  "language_info": {
   "codemirror_mode": {
    "name": "ipython",
    "version": 3
   },
   "file_extension": ".py",
   "mimetype": "text/x-python",
   "name": "python",
   "nbconvert_exporter": "python",
   "pygments_lexer": "ipython3",
   "version": "3.5.2"
  }
 },
 "nbformat": 4,
 "nbformat_minor": 2
}
